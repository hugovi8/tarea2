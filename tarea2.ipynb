{
 "cells": [
  {
   "cell_type": "markdown",
   "metadata": {},
   "source": [
    "### Git y control de versiones \n",
    "\n",
    "Git es una herramienta de código abierto, la cual permite realizar un control detallado de todas las adiciones, eliminaciones y alteraciones que se hacen en cualquier proyecto. Git realiza una serie de \"capturas\" las cuales generan datos como la persona que modificó los datos, las modificaciones que se hicieron e incluso la fecha exacta. A tales \"capturas\" en el lenguaje de Git se les llama **commits**. Estos comits se componen de **objetos**, los cuales no son modificables al asignarse en un **commit** propio. Por último para identificar cada **commit** se necesita establecer una **referencia**, las cuales pueden ser alterables e incluso pueden apuntar a un nuevo **commit**, las referencias son facilidades para especificar el **commit** exacto donde se dió un determinado cambio. \n",
    "\n",
    "Cuando hablamos de las relaciones entre los distintos objetos y referencias planteadas, hablamos de un **repositorio**."
   ]
  },
  {
   "cell_type": "markdown",
   "metadata": {},
   "source": [
    "### Uso de Git\n",
    "\n",
    "La siguiente es una guía básica para usar git y su opción de control remoto GitHub:\n",
    "\n",
    "#### Incializando un proyecto\n",
    "Para incializar en un proyecto desde la carpeta deseada ejecutar la ventana de comandos Bash de Git y después introducir el comando."
   ]
  },
  {
   "cell_type": "code",
   "execution_count": 1,
   "metadata": {},
   "outputs": [
    {
     "data": {
      "text/plain": [
       "['Initialized empty Git repository in C:/Users/hugoa/OneDrive/Documentos/MaestrÃ\\xada/Trimestre 1/Ciencia de datos en python/tarea2/.git/']"
      ]
     },
     "execution_count": 1,
     "metadata": {},
     "output_type": "execute_result"
    }
   ],
   "source": [
    "%sx git init"
   ]
  },
  {
   "cell_type": "markdown",
   "metadata": {},
   "source": [
    "Se introduce el siguiente comando para saber que archivos se pueden agregar al proyecto. "
   ]
  },
  {
   "cell_type": "code",
   "execution_count": 3,
   "metadata": {},
   "outputs": [
    {
     "data": {
      "text/plain": [
       "['On branch master',\n",
       " '',\n",
       " 'No commits yet',\n",
       " '',\n",
       " 'Untracked files:',\n",
       " '  (use \"git add <file>...\" to include in what will be committed)',\n",
       " '\\t.ipynb_checkpoints/',\n",
       " '\\ttarea2.ipynb',\n",
       " '',\n",
       " 'nothing added to commit but untracked files present (use \"git add\" to track)']"
      ]
     },
     "execution_count": 3,
     "metadata": {},
     "output_type": "execute_result"
    }
   ],
   "source": [
    "%sx git status"
   ]
  },
  {
   "cell_type": "markdown",
   "metadata": {},
   "source": [
    "En el estado se pueden apreciar los arhivos disponibles, para agregarlos en el proyecto se ejecuta:"
   ]
  },
  {
   "cell_type": "code",
   "execution_count": null,
   "metadata": {},
   "outputs": [],
   "source": []
  }
 ],
 "metadata": {
  "kernelspec": {
   "display_name": "Python 3",
   "language": "python",
   "name": "python3"
  },
  "language_info": {
   "codemirror_mode": {
    "name": "ipython",
    "version": 3
   },
   "file_extension": ".py",
   "mimetype": "text/x-python",
   "name": "python",
   "nbconvert_exporter": "python",
   "pygments_lexer": "ipython3",
   "version": "3.8.3"
  }
 },
 "nbformat": 4,
 "nbformat_minor": 4
}
