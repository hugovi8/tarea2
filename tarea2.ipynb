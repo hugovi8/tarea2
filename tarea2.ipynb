{
 "cells": [
  {
   "cell_type": "markdown",
   "metadata": {},
   "source": [
    "### Git y control de versiones \n",
    "\n",
    "Git es una herramienta de código abierto, la cual permite realizar un control detallado de todas las adiciones, eliminaciones y alteraciones que se hacen en cualquier proyecto. Git realiza una serie de \"capturas\" las cuales generan datos como la persona que modificó los datos, las modificaciones que se hicieron e incluso la fecha exacta. A tales \"capturas\" en el lenguaje de Git se les llama **commits**. Estos comits se componen de **objetos**, los cuales no son modificables al asignarse en un **commit** propio. Por último para identificar cada **commit** se necesita establecer una **referencia**, las cuales pueden ser alterables e incluso pueden apuntar a un nuevo **commit**, las referencias son facilidades para especificar el **commit** exacto donde se dió un determinado cambio. \n",
    "\n",
    "Cuando hablamos de las relaciones entre los distintos objetos y referencias planteadas, hablamos de un **repositorio**."
   ]
  },
  {
   "cell_type": "markdown",
   "metadata": {},
   "source": [
    "### Uso de Git\n",
    "\n",
    "La siguiente es una guía básica para usar git y su opción de control remoto GitHub:\n",
    "\n",
    "#### Incializando un proyecto\n",
    "Para incializar en un proyecto desde la carpeta deseada ejecutar la ventana de comandos Bash de Git y después introducir el comando."
   ]
  },
  {
   "cell_type": "code",
   "execution_count": 1,
   "metadata": {},
   "outputs": [
    {
     "data": {
      "text/plain": [
       "['Initialized empty Git repository in C:/Users/hugoa/OneDrive/Documentos/MaestrÃ\\xada/Trimestre 1/Ciencia de datos en python/tarea2/.git/']"
      ]
     },
     "execution_count": 1,
     "metadata": {},
     "output_type": "execute_result"
    }
   ],
   "source": [
    "%sx git init"
   ]
  },
  {
   "cell_type": "markdown",
   "metadata": {},
   "source": [
    "Se introduce el siguiente comando para saber que archivos se pueden agregar al proyecto. "
   ]
  },
  {
   "cell_type": "code",
   "execution_count": 5,
   "metadata": {},
   "outputs": [
    {
     "data": {
      "text/plain": [
       "['On branch master',\n",
       " '',\n",
       " 'No commits yet',\n",
       " '',\n",
       " 'Untracked files:',\n",
       " '  (use \"git add <file>...\" to include in what will be committed)',\n",
       " '\\t.ipynb_checkpoints/',\n",
       " '\\tprueba.py',\n",
       " '\\ttarea2.ipynb',\n",
       " '',\n",
       " 'nothing added to commit but untracked files present (use \"git add\" to track)']"
      ]
     },
     "execution_count": 5,
     "metadata": {},
     "output_type": "execute_result"
    }
   ],
   "source": [
    "%sx git status"
   ]
  },
  {
   "cell_type": "markdown",
   "metadata": {},
   "source": [
    "En el estado se pueden apreciar los arhivos disponibles, para agregarlos en el proyecto se ejecuta:"
   ]
  },
  {
   "cell_type": "code",
   "execution_count": 7,
   "metadata": {},
   "outputs": [
    {
     "data": {
      "text/plain": [
       "['warning: LF will be replaced by CRLF in tarea2.ipynb.',\n",
       " 'The file will have its original line endings in your working directory']"
      ]
     },
     "execution_count": 7,
     "metadata": {},
     "output_type": "execute_result"
    }
   ],
   "source": [
    "%sx git add tarea2.ipynb"
   ]
  },
  {
   "cell_type": "code",
   "execution_count": 5,
   "metadata": {},
   "outputs": [
    {
     "data": {
      "text/plain": [
       "[]"
      ]
     },
     "execution_count": 5,
     "metadata": {},
     "output_type": "execute_result"
    }
   ],
   "source": [
    "%sx git add prueba.py"
   ]
  },
  {
   "cell_type": "markdown",
   "metadata": {},
   "source": [
    "Ahora se realizará la primera captura, mediante la consola vi ejecutando el comando:"
   ]
  },
  {
   "cell_type": "code",
   "execution_count": 1,
   "metadata": {},
   "outputs": [
    {
     "data": {
      "text/plain": [
       "['On branch master',\n",
       " 'Changes not staged for commit:',\n",
       " '  (use \"git add <file>...\" to update what will be committed)',\n",
       " '  (use \"git restore <file>...\" to discard changes in working directory)',\n",
       " '\\tmodified:   tarea2.ipynb',\n",
       " '',\n",
       " 'Untracked files:',\n",
       " '  (use \"git add <file>...\" to include in what will be committed)',\n",
       " '\\t.ipynb_checkpoints/',\n",
       " '',\n",
       " 'no changes added to commit (use \"git add\" and/or \"git commit -a\")']"
      ]
     },
     "execution_count": 1,
     "metadata": {},
     "output_type": "execute_result"
    }
   ],
   "source": [
    "%sx git commit"
   ]
  },
  {
   "cell_type": "markdown",
   "metadata": {},
   "source": [
    "Con el comando log se aprecian los commits realizados"
   ]
  },
  {
   "cell_type": "code",
   "execution_count": 10,
   "metadata": {},
   "outputs": [
    {
     "data": {
      "text/plain": [
       "['commit c5be9c5a335004bf0d22ec9bcd784011e48b6ec9',\n",
       " 'Author: Hugo Villanueva <hugoale1101@gmail.com>',\n",
       " 'Date:   Wed Feb 10 23:04:03 2021 -0600',\n",
       " '',\n",
       " '    mi primer captura']"
      ]
     },
     "execution_count": 10,
     "metadata": {},
     "output_type": "execute_result"
    }
   ],
   "source": [
    "%sx git log"
   ]
  },
  {
   "cell_type": "markdown",
   "metadata": {},
   "source": [
    "El archivo llamado prueba.py tiene un sencillo programa que muestra los numeros del uno al cien, ahora se hizo una modificación para que muestre los números pares de 1 al 100, para notar estos cambios se procede a introducir de nuevo el estado."
   ]
  },
  {
   "cell_type": "code",
   "execution_count": 17,
   "metadata": {},
   "outputs": [
    {
     "data": {
      "text/plain": [
       "['On branch master',\n",
       " 'Changes to be committed:',\n",
       " '  (use \"git restore --staged <file>...\" to unstage)',\n",
       " '\\tmodified:   prueba.py',\n",
       " '',\n",
       " 'Changes not staged for commit:',\n",
       " '  (use \"git add <file>...\" to update what will be committed)',\n",
       " '  (use \"git restore <file>...\" to discard changes in working directory)',\n",
       " '\\tmodified:   prueba.py',\n",
       " '\\tmodified:   tarea2.ipynb',\n",
       " '',\n",
       " 'Untracked files:',\n",
       " '  (use \"git add <file>...\" to include in what will be committed)',\n",
       " '\\t.ipynb_checkpoints/',\n",
       " '']"
      ]
     },
     "execution_count": 17,
     "metadata": {},
     "output_type": "execute_result"
    }
   ],
   "source": [
    "%sx git status"
   ]
  },
  {
   "cell_type": "markdown",
   "metadata": {},
   "source": [
    "Si se quiere observar la diferencia entre archivos modificados:"
   ]
  },
  {
   "cell_type": "code",
   "execution_count": 18,
   "metadata": {},
   "outputs": [
    {
     "data": {
      "text/plain": [
       "['diff --git a/prueba.py b/prueba.py',\n",
       " 'index 2ec3892..73f118f 100644',\n",
       " '--- a/prueba.py',\n",
       " '+++ b/prueba.py',\n",
       " '@@ -1,8 +1,8 @@',\n",
       " '-N=2',\n",
       " '+N=1',\n",
       " ' n = 100',\n",
       " ' ',\n",
       " ' while N <= n:',\n",
       " '     print(N)',\n",
       " '-    N += 2',\n",
       " '+    N += 1',\n",
       " ' ',\n",
       " ' # imprimir numero sdel uno al 100']"
      ]
     },
     "execution_count": 18,
     "metadata": {},
     "output_type": "execute_result"
    }
   ],
   "source": [
    "%sx git diff prueba.py"
   ]
  },
  {
   "cell_type": "markdown",
   "metadata": {},
   "source": [
    "Se observa la modificación, sin embargo si se quiere volver al punto previo a la edición, introducimos:"
   ]
  },
  {
   "cell_type": "code",
   "execution_count": 14,
   "metadata": {},
   "outputs": [
    {
     "data": {
      "text/plain": [
       "[]"
      ]
     },
     "execution_count": 14,
     "metadata": {},
     "output_type": "execute_result"
    }
   ],
   "source": [
    "%sx git checkout -- prueba.py"
   ]
  },
  {
   "cell_type": "markdown",
   "metadata": {},
   "source": [
    "Para guardar los cambios de las modificaciones de nuevo, se agrega el archivo"
   ]
  },
  {
   "cell_type": "code",
   "execution_count": 20,
   "metadata": {},
   "outputs": [
    {
     "data": {
      "text/plain": [
       "[]"
      ]
     },
     "execution_count": 20,
     "metadata": {},
     "output_type": "execute_result"
    }
   ],
   "source": [
    "%sx git add prueba.py"
   ]
  },
  {
   "cell_type": "markdown",
   "metadata": {},
   "source": [
    "Y de nuevo se graba otro commit"
   ]
  },
  {
   "cell_type": "code",
   "execution_count": 21,
   "metadata": {},
   "outputs": [
    {
     "data": {
      "text/plain": [
       "['On branch master',\n",
       " 'Changes not staged for commit:',\n",
       " '  (use \"git add <file>...\" to update what will be committed)',\n",
       " '  (use \"git restore <file>...\" to discard changes in working directory)',\n",
       " '\\tmodified:   tarea2.ipynb',\n",
       " '',\n",
       " 'Untracked files:',\n",
       " '  (use \"git add <file>...\" to include in what will be committed)',\n",
       " '\\t.ipynb_checkpoints/',\n",
       " '',\n",
       " 'no changes added to commit (use \"git add\" and/or \"git commit -a\")']"
      ]
     },
     "execution_count": 21,
     "metadata": {},
     "output_type": "execute_result"
    }
   ],
   "source": [
    "%sx git commit"
   ]
  },
  {
   "cell_type": "markdown",
   "metadata": {},
   "source": [
    "Para crear una nueva rama, (es decir para generar una nueva versión), lo cual es necesario para generar una nueva copia del proyecto y realizar las nuevas modificaciones sin afectar el proyecto natural, se digita:"
   ]
  },
  {
   "cell_type": "code",
   "execution_count": 22,
   "metadata": {},
   "outputs": [
    {
     "data": {
      "text/plain": [
       "[]"
      ]
     },
     "execution_count": 22,
     "metadata": {},
     "output_type": "execute_result"
    }
   ],
   "source": [
    "%sx git branch v2"
   ]
  },
  {
   "cell_type": "code",
   "execution_count": 24,
   "metadata": {},
   "outputs": [
    {
     "data": {
      "text/plain": [
       "['* master', '  v2']"
      ]
     },
     "execution_count": 24,
     "metadata": {},
     "output_type": "execute_result"
    }
   ],
   "source": [
    "%sx git branch "
   ]
  },
  {
   "cell_type": "markdown",
   "metadata": {},
   "source": [
    "Ahora se subirá el proyecto en un repositorio remoto, depués de crear el repositorio en gitHub se introduce el comado para realizar el enlace."
   ]
  },
  {
   "cell_type": "code",
   "execution_count": null,
   "metadata": {},
   "outputs": [],
   "source": []
  },
  {
   "cell_type": "code",
   "execution_count": 29,
   "metadata": {},
   "outputs": [
    {
     "data": {
      "text/plain": [
       "['error: remote origin already exists.']"
      ]
     },
     "execution_count": 29,
     "metadata": {},
     "output_type": "execute_result"
    }
   ],
   "source": [
    "%sx git remote add origin https://github.com/hugovi8/tarea2.git"
   ]
  },
  {
   "cell_type": "code",
   "execution_count": 30,
   "metadata": {},
   "outputs": [
    {
     "data": {
      "text/plain": [
       "[\"Branch 'master' set up to track remote branch 'master' from 'origin'.\",\n",
       " 'Everything up-to-date']"
      ]
     },
     "execution_count": 30,
     "metadata": {},
     "output_type": "execute_result"
    }
   ],
   "source": [
    "%sx git push -u origin master"
   ]
  },
  {
   "cell_type": "code",
   "execution_count": 28,
   "metadata": {},
   "outputs": [
    {
     "data": {
      "text/plain": [
       "['warning: LF will be replaced by CRLF in tarea2.ipynb.',\n",
       " 'The file will have its original line endings in your working directory']"
      ]
     },
     "execution_count": 28,
     "metadata": {},
     "output_type": "execute_result"
    }
   ],
   "source": [
    "%sx git add tarea2.ipynb"
   ]
  },
  {
   "cell_type": "code",
   "execution_count": null,
   "metadata": {},
   "outputs": [],
   "source": []
  }
 ],
 "metadata": {
  "kernelspec": {
   "display_name": "Python 3",
   "language": "python",
   "name": "python3"
  },
  "language_info": {
   "codemirror_mode": {
    "name": "ipython",
    "version": 3
   },
   "file_extension": ".py",
   "mimetype": "text/x-python",
   "name": "python",
   "nbconvert_exporter": "python",
   "pygments_lexer": "ipython3",
   "version": "3.8.3"
  }
 },
 "nbformat": 4,
 "nbformat_minor": 4
}
